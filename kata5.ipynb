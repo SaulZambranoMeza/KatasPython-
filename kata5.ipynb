{
 "cells": [
  {
   "cell_type": "markdown",
   "metadata": {},
   "source": [
    "# Ejercicio 1"
   ]
  },
  {
   "cell_type": "code",
   "execution_count": null,
   "metadata": {},
   "outputs": [],
   "source": [
    "Tierra = 149597.870\n",
    "Júpiter = 778547.200 \n",
    "print(abs(Tierra - Júpiter), 'Km')\n",
    "print(abs(Tierra - Júpiter)* 0.621, 'mi')"
   ]
  },
  {
   "cell_type": "markdown",
   "metadata": {},
   "source": [
    "# Ejercicio 2"
   ]
  },
  {
   "cell_type": "code",
   "execution_count": null,
   "metadata": {},
   "outputs": [],
   "source": [
    "Planeta1 = input ('Inserte la distancia del primer planeta: ')\n",
    "Planeta2 = input ('Inserte la distancia del segundo planeta: ')\n",
    "Planeta1 = float(Planeta1)\n",
    "Planeta2 = float(Planeta2)\n",
    "print('La distancia entre el sol y la tierra es de', abs(Planeta1 - Planeta2), 'Km')\n",
    "print('La distancia entre el sol y la tierra es de', abs(Planeta1 - Planeta2) * 0.621, 'Mi')"
   ]
  }
 ],
 "metadata": {
  "language_info": {
   "name": "python"
  },
  "orig_nbformat": 4
 },
 "nbformat": 4,
 "nbformat_minor": 2
}
