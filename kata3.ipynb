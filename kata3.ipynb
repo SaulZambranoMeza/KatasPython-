{
 "cells": [
  {
   "cell_type": "markdown",
   "metadata": {},
   "source": [
    "# Advertencia de asteroide"
   ]
  },
  {
   "cell_type": "code",
   "execution_count": null,
   "metadata": {},
   "outputs": [],
   "source": [
    "a= 25  #No advertencia\n",
    "b = 26  #Advertencia\n",
    "c = 49  #Velocidad del asteroide \n",
    "if c >= b:\n",
    "    print(' Peligro, un asteroide se acerca a la tierra')\n",
    "\n",
    "elif c <= a:\n",
    "    print('No se decta ninguna amenza')"
   ]
  },
  {
   "cell_type": "markdown",
   "metadata": {},
   "source": [
    "# Luces generadas por asteroides"
   ]
  },
  {
   "cell_type": "code",
   "execution_count": null,
   "metadata": {},
   "outputs": [],
   "source": [
    "d= 20 #Velocidad para ser una amenza\n",
    "e = 19 #Velocidad del asteroide\n",
    "\n",
    "if e >= d:\n",
    "    print('Alerta de asteroide')\n",
    "elif e <= d:\n",
    "    print('No existe amenza de asteroide')\n"
   ]
  },
  {
   "cell_type": "markdown",
   "metadata": {},
   "source": [
    "# Ejercicios usando operadores or y and"
   ]
  },
  {
   "cell_type": "code",
   "execution_count": null,
   "metadata": {},
   "outputs": [],
   "source": [
    "velocidad_asteroide = 25\n",
    "tamano_asteroide = 40\n",
    "if velocidad_asteroide > 25 and tamano_asteroide > 25:\n",
    "    print('¡Alerta, Un asteroide muy peligroso viene hacia la Tierra!')\n",
    "elif velocidad_asteroide >= 20:\n",
    "    print('Look up! ¡Hay una luz mágica en el cielo!')\n",
    "elif tamano_asteroide < 25:\n",
    "    print('Nada que ver aquí')\n",
    "else:\n",
    "    print('Nada que ver aquí')"
   ]
  }
 ],
 "metadata": {
  "language_info": {
   "name": "python"
  },
  "orig_nbformat": 4
 },
 "nbformat": 4,
 "nbformat_minor": 2
}
